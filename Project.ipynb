{
 "cells": [
  {
   "cell_type": "code",
   "execution_count": 2,
   "metadata": {},
   "outputs": [
    {
     "data": {
      "text/html": [
       "<div>\n",
       "<style scoped>\n",
       "    .dataframe tbody tr th:only-of-type {\n",
       "        vertical-align: middle;\n",
       "    }\n",
       "\n",
       "    .dataframe tbody tr th {\n",
       "        vertical-align: top;\n",
       "    }\n",
       "\n",
       "    .dataframe thead th {\n",
       "        text-align: right;\n",
       "    }\n",
       "</style>\n",
       "<table border=\"1\" class=\"dataframe\">\n",
       "  <thead>\n",
       "    <tr style=\"text-align: right;\">\n",
       "      <th></th>\n",
       "      <th>anchor</th>\n",
       "      <th>href</th>\n",
       "    </tr>\n",
       "  </thead>\n",
       "  <tbody>\n",
       "    <tr>\n",
       "      <th>0</th>\n",
       "      <td>data mining</td>\n",
       "      <td>/wiki/Data_mining</td>\n",
       "    </tr>\n",
       "    <tr>\n",
       "      <th>1</th>\n",
       "      <td>Supervised learning</td>\n",
       "      <td>/wiki/Supervised_learning</td>\n",
       "    </tr>\n",
       "    <tr>\n",
       "      <th>2</th>\n",
       "      <td>Unsupervised learning</td>\n",
       "      <td>/wiki/Unsupervised_learning</td>\n",
       "    </tr>\n",
       "    <tr>\n",
       "      <th>3</th>\n",
       "      <td>Online learning</td>\n",
       "      <td>/wiki/Online_machine_learning</td>\n",
       "    </tr>\n",
       "    <tr>\n",
       "      <th>4</th>\n",
       "      <td>Batch learning</td>\n",
       "      <td>/wiki/Batch_learning</td>\n",
       "    </tr>\n",
       "  </tbody>\n",
       "</table>\n",
       "</div>"
      ],
      "text/plain": [
       "                  anchor                           href\n",
       "0            data mining              /wiki/Data_mining\n",
       "1    Supervised learning      /wiki/Supervised_learning\n",
       "2  Unsupervised learning    /wiki/Unsupervised_learning\n",
       "3        Online learning  /wiki/Online_machine_learning\n",
       "4         Batch learning           /wiki/Batch_learning"
      ]
     },
     "execution_count": 2,
     "metadata": {},
     "output_type": "execute_result"
    }
   ],
   "source": [
    "from bs4 import BeautifulSoup\n",
    "import pandas as pd\n",
    "import requests\n",
    " \n",
    "subject = 'Machine Learning'\n",
    " \n",
    "url = 'https://en.wikipedia.org/w/api.php'\n",
    "params = {\n",
    "            'action':'parse',\n",
    "            'prop':'text',\n",
    "            'format':'json',\n",
    "            'page':subject,\n",
    "            'section':0,\n",
    "            'redirects':''\n",
    "        }\n",
    "data = requests.get(url, params=params).json()\n",
    " \n",
    "soup = BeautifulSoup(data['parse']['text']['*'],'html.parser')\n",
    " \n",
    "infobox = soup.find('table',{'class':'infobox','class':'sidebar'})\n",
    " \n",
    "a_tags = infobox.find_all('a', href=True)\n",
    " \n",
    "links = []\n",
    "for tag in a_tags:\n",
    "    if not tag.text == '' and 'wiki' in tag['href']:\n",
    "        links.append({'anchor':tag.text, 'href':tag['href']})\n",
    " \n",
    "pd.DataFrame(links).head()"
   ]
  },
  {
   "cell_type": "code",
   "execution_count": 3,
   "metadata": {},
   "outputs": [
    {
     "name": "stdout",
     "output_type": "stream",
     "text": [
      "Note: you may need to restart the kernel to use updated packages.\n"
     ]
    },
    {
     "name": "stderr",
     "output_type": "stream",
     "text": [
      "\n",
      "Usage:   \n",
      "  C:\\Users\\betsy\\OneDrive\\Documents\\Python\\python.exe -m pip install [options] <requirement specifier> [package-index-options] ...\n",
      "  C:\\Users\\betsy\\OneDrive\\Documents\\Python\\python.exe -m pip install [options] -r <requirements file> [package-index-options] ...\n",
      "  C:\\Users\\betsy\\OneDrive\\Documents\\Python\\python.exe -m pip install [options] [-e] <vcs project url> ...\n",
      "  C:\\Users\\betsy\\OneDrive\\Documents\\Python\\python.exe -m pip install [options] [-e] <local project path> ...\n",
      "  C:\\Users\\betsy\\OneDrive\\Documents\\Python\\python.exe -m pip install [options] <archive url/path> ...\n",
      "\n",
      "no such option: --upgrades\n"
     ]
    }
   ],
   "source": []
  },
  {
   "cell_type": "code",
   "execution_count": null,
   "metadata": {},
   "outputs": [],
   "source": []
  }
 ],
 "metadata": {
  "kernelspec": {
   "display_name": "Python 3",
   "language": "python",
   "name": "python3"
  },
  "language_info": {
   "codemirror_mode": {
    "name": "ipython",
    "version": 3
   },
   "file_extension": ".py",
   "mimetype": "text/x-python",
   "name": "python",
   "nbconvert_exporter": "python",
   "pygments_lexer": "ipython3",
   "version": "3.7.3"
  }
 },
 "nbformat": 4,
 "nbformat_minor": 2
}
